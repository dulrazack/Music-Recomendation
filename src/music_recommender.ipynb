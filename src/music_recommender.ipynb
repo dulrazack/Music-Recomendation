{
 "cells": [
  {
   "cell_type": "code",
   "execution_count": null,
   "metadata": {},
   "outputs": [],
   "source": [
    "# Import necessary libraries\n",
    "from sklearn.tree import DecisionTreeClassifier  # Import DecisionTreeClassifier class\n",
    "from sklearn.metrics import accuracy_score  # Import accuracy_score function\n",
    "from sklearn.model_selection import train_test_split  # Import train_test_split function\n",
    "import pandas as pd  # Import pandas library for data manipulation\n",
    "from sklearn import tree\n",
    "\n",
    "# Load the dataset from CSV file\n",
    "music_data = pd.read_csv(\"music.csv\")  # Load music data from CSV into a DataFrame\n",
    "\n",
    "# Describe the data\n",
    "music_data.describe() # Provide descriptive statistics of the dataset (mean, median, etc.)\n",
    "\n",
    "# Check the shape of the data (number of rows and columns)\n",
    "music_data.shape # Print the dimensions (rows and columns) of the dataset\n",
    "\n",
    "# Create input and output variables\n",
    "X = music_data.drop(columns=['genre'])  # Input features (excluding 'genre' column)\n",
    "y = music_data['genre']  # Target variable (contains 'genre' column)\n",
    "\n",
    "# Split the data into training and testing sets\n",
    "X_train, X_test, y_train, y_test = train_test_split(X, y, test_size=0.2)  # 80% training, 20% testing\n",
    "\n",
    "# Create and train the Decision Tree model\n",
    "model = DecisionTreeClassifier()  # Create a DecisionTreeClassifier instance\n",
    "model.fit(X_train, y_train)  # Train the model using training data\n",
    "\n",
    "# Make predictions\n",
    "predictions = model.predict(X_test)  # Make predictions on the testing set\n",
    "\n",
    "# Calculate and print the accuracy\n",
    "accuracy = accuracy_score(y_test, predictions)  # Calculate accuracy\n",
    "print(f\"Accuracy: {accuracy}\")  # Display the accuracy\n",
    "\n",
    "tree.export_graphviz(model, \n",
    "                     out_file='music-recommender.dot', \n",
    "                     feature_names=['age', 'gender'], \n",
    "                     class_names=y.unique(), \n",
    "                     label='all', \n",
    "                     rounded=True, \n",
    "                     filled=True)\n"
   ]
  }
 ],
 "metadata": {
  "language_info": {
   "name": "python"
  }
 },
 "nbformat": 4,
 "nbformat_minor": 2
}
